{
 "cells": [
  {
   "cell_type": "code",
   "execution_count": 19,
   "metadata": {},
   "outputs": [],
   "source": [
    "import requests as req\n",
    "import json as json\n",
    "from IPython.display import Image\n",
    "from IPython.core.display import HTML\n",
    "import matplotlib.pyplot as plt\n",
    "import matplotlib.image as matplotimg"
   ]
  },
  {
   "cell_type": "code",
   "execution_count": 20,
   "metadata": {},
   "outputs": [],
   "source": [
    "imdb_api_key = \"\""
   ]
  },
  {
   "cell_type": "code",
   "execution_count": 21,
   "metadata": {},
   "outputs": [],
   "source": [
    "search_text = \"Batman\""
   ]
  },
  {
   "cell_type": "markdown",
   "metadata": {},
   "source": [
    "## find all the movies in the usa"
   ]
  },
  {
   "cell_type": "code",
   "execution_count": 22,
   "metadata": {},
   "outputs": [],
   "source": [
    "search_text_url = \"https://imdb-api.com/API/Search/\" + imdb_api_key + \"/\" + search_text"
   ]
  },
  {
   "cell_type": "code",
   "execution_count": 23,
   "metadata": {},
   "outputs": [],
   "source": [
    "movies_response = req.get(search_text_url)"
   ]
  },
  {
   "cell_type": "code",
   "execution_count": 24,
   "metadata": {},
   "outputs": [],
   "source": [
    "#Method to display an image from a url\n",
    "def show_movie_image(img_test_url):\n",
    "    display(Image(url= img_test_url, width=100, height=100))"
   ]
  },
  {
   "cell_type": "markdown",
   "metadata": {},
   "source": [
    "## Parse the json response."
   ]
  },
  {
   "cell_type": "code",
   "execution_count": 25,
   "metadata": {},
   "outputs": [
    {
     "name": "stdout",
     "output_type": "stream",
     "text": [
      "{'searchType': 'Title', 'expression': 'Batman', 'results': [{'id': 'tt1877830', 'resultType': 'Title', 'image': 'https://imdb-api.com/images/original/MV5BZTE2YTY3YTMtM2FlMS00YmI3LTgyMWUtM2FhMWIyZWRmMDk5XkEyXkFqcGdeQXVyMTkxNjUyNQ@@._V1_Ratio0.7727_AL_.jpg', 'title': 'The Batman', 'description': '(2022)'}, {'id': 'tt0096895', 'resultType': 'Title', 'image': 'https://imdb-api.com/images/original/MV5BMTYwNjAyODIyMF5BMl5BanBnXkFtZTYwNDMwMDk2._V1_Ratio0.7273_AL_.jpg', 'title': 'Batman', 'description': '(1989)'}, {'id': 'tt0103359', 'resultType': 'Title', 'image': 'https://imdb-api.com/images/original/MV5BOTM3MTRkZjQtYjBkMy00YWE1LTkxOTQtNDQyNGY0YjYzNzAzXkEyXkFqcGdeQXVyOTgwMzk1MTA@._V1_Ratio0.7273_AL_.jpg', 'title': 'Batman: The Animated Series', 'description': '(1992) (TV Series)'}, {'id': 'tt2975590', 'resultType': 'Title', 'image': 'https://imdb-api.com/images/original/MV5BYThjYzcyYzItNTVjNy00NDk0LTgwMWQtYjMwNmNlNWJhMzMyXkEyXkFqcGdeQXVyMTQxNzMzNDI@._V1_Ratio0.7273_AL_.jpg', 'title': 'Batman v Superman: Dawn of Justice', 'description': '(2016)'}, {'id': 'tt0468569', 'resultType': 'Title', 'image': 'https://imdb-api.com/images/original/MV5BMTMxNTMwODM0NF5BMl5BanBnXkFtZTcwODAyMTk2Mw@@._V1_Ratio0.7273_AL_.jpg', 'title': 'The Dark Knight', 'description': '(2008) aka \"Batman - El caballero de la noche\"'}, {'id': 'tt1345836', 'resultType': 'Title', 'image': 'https://imdb-api.com/images/original/MV5BMTk4ODQzNDY3Ml5BMl5BanBnXkFtZTcwODA0NTM4Nw@@._V1_Ratio0.7273_AL_.jpg', 'title': 'The Dark Knight Rises', 'description': '(2012) aka \"Batman: El caballero de la noche asciende\"'}, {'id': 'tt0372784', 'resultType': 'Title', 'image': 'https://imdb-api.com/images/original/MV5BOTY4YjI2N2MtYmFlMC00ZjcyLTg3YjEtMDQyM2ZjYzQ5YWFkXkEyXkFqcGdeQXVyMTQxNzMzNDI@._V1_Ratio0.7273_AL_.jpg', 'title': 'Batman Begins', 'description': '(2005)'}, {'id': 'tt0118688', 'resultType': 'Title', 'image': 'https://imdb-api.com/images/original/MV5BMGQ5YTM1NmMtYmIxYy00N2VmLWJhZTYtN2EwYTY3MWFhOTczXkEyXkFqcGdeQXVyNTA2NTI0MTY@._V1_Ratio0.7273_AL_.jpg', 'title': 'Batman & Robin', 'description': '(1997)'}, {'id': 'tt0059968', 'resultType': 'Title', 'image': 'https://imdb-api.com/images/original/MV5BMTkzNDY5NTg5MF5BMl5BanBnXkFtZTgwNzI4NzM1MjE@._V1_Ratio0.7727_AL_.jpg', 'title': 'Batman', 'description': '(1966) (TV Series)'}, {'id': 'tt0112462', 'resultType': 'Title', 'image': 'https://imdb-api.com/images/original/MV5BNDdjYmFiYWEtYzBhZS00YTZkLWFlODgtY2I5MDE0NzZmMDljXkEyXkFqcGdeQXVyMTMxODk2OTU@._V1_Ratio0.7273_AL_.jpg', 'title': 'Batman Forever', 'description': '(1995)'}], 'errorMessage': ''}\n"
     ]
    }
   ],
   "source": [
    "movies_response_json = json.loads(movies_response.text)\n",
    "print(movies_response_json)"
   ]
  },
  {
   "cell_type": "code",
   "execution_count": 26,
   "metadata": {},
   "outputs": [],
   "source": [
    "movies_search_results = movies_response_json[\"results\"]"
   ]
  },
  {
   "cell_type": "code",
   "execution_count": 27,
   "metadata": {},
   "outputs": [
    {
     "name": "stdout",
     "output_type": "stream",
     "text": [
      "Name: The Batman\n",
      "Description: (2022)\n"
     ]
    },
    {
     "data": {
      "text/html": [
       "<img src=\"https://imdb-api.com/images/original/MV5BZTE2YTY3YTMtM2FlMS00YmI3LTgyMWUtM2FhMWIyZWRmMDk5XkEyXkFqcGdeQXVyMTkxNjUyNQ@@._V1_Ratio0.7727_AL_.jpg\" width=\"100\" height=\"100\"/>"
      ],
      "text/plain": [
       "<IPython.core.display.Image object>"
      ]
     },
     "metadata": {},
     "output_type": "display_data"
    },
    {
     "name": "stdout",
     "output_type": "stream",
     "text": [
      "-----------------------------------------------------\n",
      "Name: Batman\n",
      "Description: (1989)\n"
     ]
    },
    {
     "data": {
      "text/html": [
       "<img src=\"https://imdb-api.com/images/original/MV5BMTYwNjAyODIyMF5BMl5BanBnXkFtZTYwNDMwMDk2._V1_Ratio0.7273_AL_.jpg\" width=\"100\" height=\"100\"/>"
      ],
      "text/plain": [
       "<IPython.core.display.Image object>"
      ]
     },
     "metadata": {},
     "output_type": "display_data"
    },
    {
     "name": "stdout",
     "output_type": "stream",
     "text": [
      "-----------------------------------------------------\n",
      "Name: Batman: The Animated Series\n",
      "Description: (1992) (TV Series)\n"
     ]
    },
    {
     "data": {
      "text/html": [
       "<img src=\"https://imdb-api.com/images/original/MV5BOTM3MTRkZjQtYjBkMy00YWE1LTkxOTQtNDQyNGY0YjYzNzAzXkEyXkFqcGdeQXVyOTgwMzk1MTA@._V1_Ratio0.7273_AL_.jpg\" width=\"100\" height=\"100\"/>"
      ],
      "text/plain": [
       "<IPython.core.display.Image object>"
      ]
     },
     "metadata": {},
     "output_type": "display_data"
    },
    {
     "name": "stdout",
     "output_type": "stream",
     "text": [
      "-----------------------------------------------------\n",
      "Name: Batman v Superman: Dawn of Justice\n",
      "Description: (2016)\n"
     ]
    },
    {
     "data": {
      "text/html": [
       "<img src=\"https://imdb-api.com/images/original/MV5BYThjYzcyYzItNTVjNy00NDk0LTgwMWQtYjMwNmNlNWJhMzMyXkEyXkFqcGdeQXVyMTQxNzMzNDI@._V1_Ratio0.7273_AL_.jpg\" width=\"100\" height=\"100\"/>"
      ],
      "text/plain": [
       "<IPython.core.display.Image object>"
      ]
     },
     "metadata": {},
     "output_type": "display_data"
    },
    {
     "name": "stdout",
     "output_type": "stream",
     "text": [
      "-----------------------------------------------------\n",
      "Name: The Dark Knight\n",
      "Description: (2008) aka \"Batman - El caballero de la noche\"\n"
     ]
    },
    {
     "data": {
      "text/html": [
       "<img src=\"https://imdb-api.com/images/original/MV5BMTMxNTMwODM0NF5BMl5BanBnXkFtZTcwODAyMTk2Mw@@._V1_Ratio0.7273_AL_.jpg\" width=\"100\" height=\"100\"/>"
      ],
      "text/plain": [
       "<IPython.core.display.Image object>"
      ]
     },
     "metadata": {},
     "output_type": "display_data"
    },
    {
     "name": "stdout",
     "output_type": "stream",
     "text": [
      "-----------------------------------------------------\n",
      "Name: The Dark Knight Rises\n",
      "Description: (2012) aka \"Batman: El caballero de la noche asciende\"\n"
     ]
    },
    {
     "data": {
      "text/html": [
       "<img src=\"https://imdb-api.com/images/original/MV5BMTk4ODQzNDY3Ml5BMl5BanBnXkFtZTcwODA0NTM4Nw@@._V1_Ratio0.7273_AL_.jpg\" width=\"100\" height=\"100\"/>"
      ],
      "text/plain": [
       "<IPython.core.display.Image object>"
      ]
     },
     "metadata": {},
     "output_type": "display_data"
    },
    {
     "name": "stdout",
     "output_type": "stream",
     "text": [
      "-----------------------------------------------------\n",
      "Name: Batman Begins\n",
      "Description: (2005)\n"
     ]
    },
    {
     "data": {
      "text/html": [
       "<img src=\"https://imdb-api.com/images/original/MV5BOTY4YjI2N2MtYmFlMC00ZjcyLTg3YjEtMDQyM2ZjYzQ5YWFkXkEyXkFqcGdeQXVyMTQxNzMzNDI@._V1_Ratio0.7273_AL_.jpg\" width=\"100\" height=\"100\"/>"
      ],
      "text/plain": [
       "<IPython.core.display.Image object>"
      ]
     },
     "metadata": {},
     "output_type": "display_data"
    },
    {
     "name": "stdout",
     "output_type": "stream",
     "text": [
      "-----------------------------------------------------\n",
      "Name: Batman & Robin\n",
      "Description: (1997)\n"
     ]
    },
    {
     "data": {
      "text/html": [
       "<img src=\"https://imdb-api.com/images/original/MV5BMGQ5YTM1NmMtYmIxYy00N2VmLWJhZTYtN2EwYTY3MWFhOTczXkEyXkFqcGdeQXVyNTA2NTI0MTY@._V1_Ratio0.7273_AL_.jpg\" width=\"100\" height=\"100\"/>"
      ],
      "text/plain": [
       "<IPython.core.display.Image object>"
      ]
     },
     "metadata": {},
     "output_type": "display_data"
    },
    {
     "name": "stdout",
     "output_type": "stream",
     "text": [
      "-----------------------------------------------------\n",
      "Name: Batman\n",
      "Description: (1966) (TV Series)\n"
     ]
    },
    {
     "data": {
      "text/html": [
       "<img src=\"https://imdb-api.com/images/original/MV5BMTkzNDY5NTg5MF5BMl5BanBnXkFtZTgwNzI4NzM1MjE@._V1_Ratio0.7727_AL_.jpg\" width=\"100\" height=\"100\"/>"
      ],
      "text/plain": [
       "<IPython.core.display.Image object>"
      ]
     },
     "metadata": {},
     "output_type": "display_data"
    },
    {
     "name": "stdout",
     "output_type": "stream",
     "text": [
      "-----------------------------------------------------\n",
      "Name: Batman Forever\n",
      "Description: (1995)\n"
     ]
    },
    {
     "data": {
      "text/html": [
       "<img src=\"https://imdb-api.com/images/original/MV5BNDdjYmFiYWEtYzBhZS00YTZkLWFlODgtY2I5MDE0NzZmMDljXkEyXkFqcGdeQXVyMTMxODk2OTU@._V1_Ratio0.7273_AL_.jpg\" width=\"100\" height=\"100\"/>"
      ],
      "text/plain": [
       "<IPython.core.display.Image object>"
      ]
     },
     "metadata": {},
     "output_type": "display_data"
    },
    {
     "name": "stdout",
     "output_type": "stream",
     "text": [
      "-----------------------------------------------------\n"
     ]
    }
   ],
   "source": [
    "for movie in movies_search_results:\n",
    "    print(\"Name: {}\".format(movie[\"title\"]))\n",
    "    print(\"Description: {}\".format(movie[\"description\"]))\n",
    "    #print(\"Movie Image:\", movie['image'])\n",
    "    show_movie_image(movie['image'])\n",
    "    print(\"-----------------------------------------------------\")"
   ]
  },
  {
   "cell_type": "code",
   "execution_count": null,
   "metadata": {},
   "outputs": [],
   "source": []
  },
  {
   "cell_type": "code",
   "execution_count": null,
   "metadata": {},
   "outputs": [],
   "source": []
  },
  {
   "cell_type": "code",
   "execution_count": null,
   "metadata": {},
   "outputs": [],
   "source": []
  },
  {
   "cell_type": "code",
   "execution_count": null,
   "metadata": {},
   "outputs": [],
   "source": [
    "\n",
    "\n",
    "\n"
   ]
  },
  {
   "cell_type": "code",
   "execution_count": null,
   "metadata": {},
   "outputs": [],
   "source": []
  }
 ],
 "metadata": {
  "kernelspec": {
   "display_name": "Python 3",
   "language": "python",
   "name": "python3"
  },
  "language_info": {
   "codemirror_mode": {
    "name": "ipython",
    "version": 3
   },
   "file_extension": ".py",
   "mimetype": "text/x-python",
   "name": "python",
   "nbconvert_exporter": "python",
   "pygments_lexer": "ipython3",
   "version": "3.8.5"
  }
 },
 "nbformat": 4,
 "nbformat_minor": 4
}
